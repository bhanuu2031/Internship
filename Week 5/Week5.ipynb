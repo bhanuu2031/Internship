{
 "cells": [
  {
   "cell_type": "code",
   "execution_count": 51,
   "id": "21e3d51d",
   "metadata": {},
   "outputs": [],
   "source": [
    "import pandas as pd\n",
    "import numpy as np\n",
    "from sklearn.preprocessing import LabelEncoder, StandardScaler, OneHotEncoder\n",
    "from scipy.stats import skew"
   ]
  },
  {
   "cell_type": "markdown",
   "id": "1d713e5f",
   "metadata": {},
   "source": [
    "Loading Dataset"
   ]
  },
  {
   "cell_type": "code",
   "execution_count": 52,
   "id": "05d9c255",
   "metadata": {},
   "outputs": [],
   "source": [
    "train = pd.read_csv('./Dataset/train.csv')\n",
    "test = pd.read_csv('./Dataset/test.csv')\n",
    "train = train[train['GrLivArea'] < 4000].reset_index(drop=True) #Removing outliers"
   ]
  },
  {
   "cell_type": "code",
   "execution_count": 53,
   "id": "1ff0fa3d",
   "metadata": {},
   "outputs": [],
   "source": [
    "y_train = train['SalePrice']\n",
    "train_features = train.drop('SalePrice', axis=1)\n",
    "all_data = pd.concat([train_features, test], axis=0, ignore_index=True)"
   ]
  },
  {
   "cell_type": "markdown",
   "id": "31de4c6b",
   "metadata": {},
   "source": [
    "Preprocessing"
   ]
  },
  {
   "cell_type": "code",
   "execution_count": 54,
   "id": "08d576a7",
   "metadata": {},
   "outputs": [],
   "source": [
    "# 1. Missing value imputation\n",
    "for col in all_data.columns:\n",
    "    if all_data[col].dtype == \"object\":\n",
    "        all_data[col] = all_data[col].fillna(\"None\")\n",
    "    else:\n",
    "        all_data[col] = all_data[col].fillna(all_data[col].median())\n",
    "\n",
    "# 2. Skewness correction for numeric features\n",
    "numeric_feats = all_data.select_dtypes(include=[np.number]).columns\n",
    "skewed_feats = all_data[numeric_feats].apply(lambda x: skew(x.dropna())).sort_values(ascending=False)\n",
    "skewness = skewed_feats[abs(skewed_feats) > 0.75]\n",
    "for feat in skewness.index:\n",
    "    all_data[feat] = np.log1p(all_data[feat])\n",
    "\n",
    "# 3. Label encoding for categorical features with <= 10 unique values, else one-hot\n",
    "for col in all_data.select_dtypes(include='object').columns:\n",
    "    if all_data[col].nunique() <= 10:\n",
    "        le = LabelEncoder()\n",
    "        all_data[col] = le.fit_transform(all_data[col])\n",
    "    else:\n",
    "        dummies = pd.get_dummies(all_data[col], prefix=col)\n",
    "        all_data = pd.concat([all_data.drop(col, axis=1), dummies], axis=1)\n"
   ]
  },
  {
   "cell_type": "markdown",
   "id": "1ad813a8",
   "metadata": {},
   "source": [
    "Feature Engineering"
   ]
  },
  {
   "cell_type": "code",
   "execution_count": 55,
   "id": "a8852d50",
   "metadata": {},
   "outputs": [],
   "source": [
    "all_data['TotalSF'] = (\n",
    "    all_data.get('TotalBsmtSF', 0) +\n",
    "    all_data.get('1stFlrSF', 0) +\n",
    "    all_data.get('2ndFlrSF', 0)\n",
    ")\n",
    "\n",
    "scaler = StandardScaler()\n",
    "all_data_scaled = pd.DataFrame(scaler.fit_transform(all_data), columns=all_data.columns)"
   ]
  },
  {
   "cell_type": "markdown",
   "id": "2cc070bd",
   "metadata": {},
   "source": [
    "Saving preprocessed data"
   ]
  },
  {
   "cell_type": "code",
   "execution_count": 56,
   "id": "69069211",
   "metadata": {},
   "outputs": [
    {
     "name": "stdout",
     "output_type": "stream",
     "text": [
      "Preprocessing complete. Shapes: (1456, 136) (1459, 136)\n"
     ]
    }
   ],
   "source": [
    "X_train = all_data_scaled.iloc[:train.shape[0], :]\n",
    "X_test = all_data_scaled.iloc[train.shape[0]:, :]\n",
    "\n",
    "X_train.to_csv('X_train_preprocessed.csv', index=False)\n",
    "X_test.to_csv('X_test_preprocessed.csv', index=False)\n",
    "y_train.to_csv('y_train.csv', index=False)\n",
    "\n",
    "print(\"Preprocessing complete. Shapes:\", X_train.shape, X_test.shape)"
   ]
  }
 ],
 "metadata": {
  "kernelspec": {
   "display_name": "Python 3",
   "language": "python",
   "name": "python3"
  },
  "language_info": {
   "codemirror_mode": {
    "name": "ipython",
    "version": 3
   },
   "file_extension": ".py",
   "mimetype": "text/x-python",
   "name": "python",
   "nbconvert_exporter": "python",
   "pygments_lexer": "ipython3",
   "version": "3.10.0"
  }
 },
 "nbformat": 4,
 "nbformat_minor": 5
}
