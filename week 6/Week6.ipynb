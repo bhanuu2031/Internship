{
 "cells": [
  {
   "cell_type": "code",
   "execution_count": 1,
   "id": "bdb4aa58",
   "metadata": {},
   "outputs": [],
   "source": [
    "from sklearn.datasets import load_iris\n",
    "from sklearn.model_selection import train_test_split, GridSearchCV\n",
    "from sklearn.linear_model import LogisticRegression\n",
    "from sklearn.tree import DecisionTreeClassifier\n",
    "from sklearn.ensemble import RandomForestClassifier\n",
    "from sklearn.svm import SVC\n",
    "from sklearn.metrics import accuracy_score, precision_score, recall_score, f1_score"
   ]
  },
  {
   "cell_type": "markdown",
   "id": "944d1105",
   "metadata": {},
   "source": [
    "Iris Dataset"
   ]
  },
  {
   "cell_type": "code",
   "execution_count": 2,
   "id": "0e762356",
   "metadata": {},
   "outputs": [],
   "source": [
    "data = load_iris()\n",
    "X = data.data\n",
    "y = data.target"
   ]
  },
  {
   "cell_type": "code",
   "execution_count": 3,
   "id": "002a7b4b",
   "metadata": {},
   "outputs": [],
   "source": [
    "# Data Split\n",
    "X_train, X_test, y_train, y_test = train_test_split(X, y, test_size=0.3, random_state=42)"
   ]
  },
  {
   "cell_type": "code",
   "execution_count": 4,
   "id": "3f7a31cd",
   "metadata": {},
   "outputs": [],
   "source": [
    "models = {\n",
    "    \"Logistic Regression\": LogisticRegression(max_iter=200),\n",
    "    \"Decision Tree\": DecisionTreeClassifier(),\n",
    "    \"Random Forest\": RandomForestClassifier(),\n",
    "    \"SVM\": SVC()\n",
    "}"
   ]
  },
  {
   "cell_type": "code",
   "execution_count": 5,
   "id": "03d2ac87",
   "metadata": {},
   "outputs": [],
   "source": [
    "results = {}\n",
    "for name, model in models.items():\n",
    "    model.fit(X_train, y_train)\n",
    "    y_pred = model.predict(X_test)\n",
    "    results[name] = {\n",
    "        \"Accuracy\": accuracy_score(y_test, y_pred),\n",
    "        \"Precision\": precision_score(y_test, y_pred, average='weighted'),\n",
    "        \"Recall\": recall_score(y_test, y_pred, average='weighted'),\n",
    "        \"F1 Score\": f1_score(y_test, y_pred, average='weighted')\n",
    "    }"
   ]
  },
  {
   "cell_type": "code",
   "execution_count": 6,
   "id": "301f12b3",
   "metadata": {},
   "outputs": [],
   "source": [
    "# Hyperparameter grids\n",
    "param_grids = {\n",
    "    \"Logistic Regression\": {'C': [0.1, 1, 10]},\n",
    "    \"Decision Tree\": {'max_depth': [3, 5, 10]},\n",
    "    \"Random Forest\": {'n_estimators': [10, 50, 100]},\n",
    "    \"SVM\": {'C': [0.1, 1, 10], 'kernel': ['linear', 'rbf']}\n",
    "}"
   ]
  },
  {
   "cell_type": "code",
   "execution_count": 7,
   "id": "b6ba6327",
   "metadata": {},
   "outputs": [],
   "source": [
    "# GridSearchCV for hyperparameter tuning\n",
    "best_models = {}\n",
    "for name, model in models.items():\n",
    "    grid_search = GridSearchCV(model, param_grids[name], cv=3)\n",
    "    grid_search.fit(X_train, y_train)\n",
    "    best_models[name] = grid_search.best_estimator_"
   ]
  },
  {
   "cell_type": "code",
   "execution_count": 8,
   "id": "baa59da1",
   "metadata": {},
   "outputs": [],
   "source": [
    "# Evaluation\n",
    "best_results = {}\n",
    "for name, model in best_models.items():\n",
    "    y_pred = model.predict(X_test)\n",
    "    best_results[name] = {\n",
    "        \"Accuracy\": accuracy_score(y_test, y_pred),\n",
    "        \"Precision\": precision_score(y_test, y_pred, average='weighted'),\n",
    "        \"Recall\": recall_score(y_test, y_pred, average='weighted'),\n",
    "        \"F1 Score\": f1_score(y_test, y_pred, average='weighted')\n",
    "    }"
   ]
  },
  {
   "cell_type": "markdown",
   "id": "be69d782",
   "metadata": {},
   "source": [
    "Results"
   ]
  },
  {
   "cell_type": "code",
   "execution_count": 9,
   "id": "0b7299fb",
   "metadata": {},
   "outputs": [
    {
     "name": "stdout",
     "output_type": "stream",
     "text": [
      "Initial Model Performance:\n",
      "Logistic Regression: {'Accuracy': 1.0, 'Precision': 1.0, 'Recall': 1.0, 'F1 Score': 1.0}\n",
      "Decision Tree: {'Accuracy': 1.0, 'Precision': 1.0, 'Recall': 1.0, 'F1 Score': 1.0}\n",
      "Random Forest: {'Accuracy': 1.0, 'Precision': 1.0, 'Recall': 1.0, 'F1 Score': 1.0}\n",
      "SVM: {'Accuracy': 1.0, 'Precision': 1.0, 'Recall': 1.0, 'F1 Score': 1.0}\n",
      "\n",
      "Best Model Performance after GridSearchCV:\n",
      "Logistic Regression: {'Accuracy': 1.0, 'Precision': 1.0, 'Recall': 1.0, 'F1 Score': 1.0}\n",
      "Decision Tree: {'Accuracy': 1.0, 'Precision': 1.0, 'Recall': 1.0, 'F1 Score': 1.0}\n",
      "Random Forest: {'Accuracy': 1.0, 'Precision': 1.0, 'Recall': 1.0, 'F1 Score': 1.0}\n",
      "SVM: {'Accuracy': 1.0, 'Precision': 1.0, 'Recall': 1.0, 'F1 Score': 1.0}\n"
     ]
    }
   ],
   "source": [
    "print(\"Initial Model Performance:\")\n",
    "for name, metrics in results.items():\n",
    "    print(f\"{name}: {metrics}\")\n",
    "\n",
    "print(\"\\nBest Model Performance after GridSearchCV:\")\n",
    "for name, metrics in best_results.items():\n",
    "    print(f\"{name}: {metrics}\")"
   ]
  },
  {
   "cell_type": "markdown",
   "id": "d969ae6a",
   "metadata": {},
   "source": [
    "Why it is so Accurate(1.0) - "
   ]
  },
  {
   "cell_type": "markdown",
   "id": "ae5801ab",
   "metadata": {},
   "source": [
    "1. Simplicity of the Iris Dataset\n",
    "- The Iris dataset is small (150 samples) and well-structured.\n",
    "- It contains only 4 features and 3 classes that are linearly separable to a large extent.\n",
    "- Many models can easily find decision boundaries that perfectly separate the classes.\n",
    "\n",
    "2. Powerful Models\n",
    "- Models like Random Forest and SVM are very powerful and can easily overfit or perfectly fit small datasets like Iris.\n",
    "- Even Logistic Regression performs well due to the linear separability of the data."
   ]
  }
 ],
 "metadata": {
  "kernelspec": {
   "display_name": "Python 3",
   "language": "python",
   "name": "python3"
  },
  "language_info": {
   "codemirror_mode": {
    "name": "ipython",
    "version": 3
   },
   "file_extension": ".py",
   "mimetype": "text/x-python",
   "name": "python",
   "nbconvert_exporter": "python",
   "pygments_lexer": "ipython3",
   "version": "3.11.0"
  }
 },
 "nbformat": 4,
 "nbformat_minor": 5
}
